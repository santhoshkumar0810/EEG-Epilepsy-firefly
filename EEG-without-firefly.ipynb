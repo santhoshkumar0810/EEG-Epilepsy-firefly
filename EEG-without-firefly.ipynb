{
 "cells": [
  {
   "cell_type": "code",
   "execution_count": 2,
   "metadata": {},
   "outputs": [],
   "source": [
    "import numpy as np\n",
    "import pandas as pd\n",
    "from sklearn.linear_model import LinearRegression, LogisticRegression\n",
    "from sklearn.mixture import GaussianMixture\n",
    "from sklearn.preprocessing import PolynomialFeatures\n",
    "from sklearn.metrics import mean_squared_error, accuracy_score, precision_score, confusion_matrix\n",
    "from scipy.special import expit  # Import for numerically stable sigmoid\n",
    "import matplotlib.pyplot as plt"
   ]
  },
  {
   "cell_type": "code",
   "execution_count": 3,
   "metadata": {},
   "outputs": [],
   "source": [
    "# Load data without target variable\n",
    "data = pd.read_csv('Full-EEG.csv')  # Replace with your CSV file\n",
    "X = data.values  # Feature data"
   ]
  },
  {
   "cell_type": "code",
   "execution_count": 4,
   "metadata": {},
   "outputs": [],
   "source": [
    "\n",
    "# Simulate a target variable for demonstration purposes\n",
    "np.random.seed(42)\n",
    "target = np.random.randint(0, 2, size=len(X))  # Simulate a binary target variable"
   ]
  },
  {
   "cell_type": "code",
   "execution_count": 5,
   "metadata": {},
   "outputs": [],
   "source": [
    "# Initialize DataFrame to store results\n",
    "metrics_df = pd.DataFrame(columns=[\n",
    "    'Algorithm', 'Accuracy', 'Sensitivity', 'Specificity', 'MSR', 'GMean', 'FPR', 'Error Rate', 'Precision'\n",
    "])"
   ]
  },
  {
   "cell_type": "code",
   "execution_count": 6,
   "metadata": {},
   "outputs": [],
   "source": [
    "# Helper function to calculate additional metrics\n",
    "def calculate_metrics(y_true, y_pred, mse):\n",
    "    tn, fp, fn, tp = confusion_matrix(y_true, y_pred).ravel()\n",
    "    accuracy = accuracy_score(y_true, y_pred)\n",
    "    sensitivity = tp / (tp + fn)\n",
    "    specificity = tn / (tn + fp)\n",
    "    gmean = np.sqrt(sensitivity * specificity)\n",
    "    fpr = fp / (fp + tn)\n",
    "    error_rate = 1 - accuracy\n",
    "    precision = precision_score(y_true, y_pred)\n",
    "    return accuracy, sensitivity, specificity, mse, gmean, fpr, error_rate, precision\n"
   ]
  },
  {
   "cell_type": "code",
   "execution_count": 7,
   "metadata": {},
   "outputs": [],
   "source": [
    "# Firefly Algorithm\n",
    "class FireflyAlgorithm:\n",
    "    def __init__(self, func, dim, lb, ub, n_fireflies=20, max_iter=100, alpha=0.5, beta=0.2, gamma=1.0):\n",
    "        self.func = func  # Objective function\n",
    "        self.dim = dim  # Dimension of the search space\n",
    "        self.lb = lb  # Lower bound of variables\n",
    "        self.ub = ub  # Upper bound of variables\n",
    "        self.n_fireflies = n_fireflies  # Number of fireflies\n",
    "        self.max_iter = max_iter  # Maximum iterations\n",
    "        self.alpha = alpha  # Randomness factor\n",
    "        self.beta = beta  # Attraction factor\n",
    "        self.gamma = gamma  # Light absorption coefficient\n",
    "\n",
    "    def optimize(self):\n",
    "        # Initialize fireflies randomly\n",
    "        fireflies = np.random.uniform(self.lb, self.ub, (self.n_fireflies, self.dim))\n",
    "        intensities = np.array([self.func(f) for f in fireflies])\n",
    "\n",
    "        for t in range(self.max_iter):\n",
    "            for i in range(self.n_fireflies):\n",
    "                for j in range(self.n_fireflies):\n",
    "                    if intensities[j] < intensities[i]:\n",
    "                        # Move firefly i towards firefly j\n",
    "                        r = np.linalg.norm(fireflies[i] - fireflies[j])\n",
    "                        beta = self.beta * np.exp(-self.gamma * r**2)\n",
    "                        fireflies[i] += beta * (fireflies[j] - fireflies[i]) + \\\n",
    "                                        self.alpha * (np.random.rand(self.dim) - 0.5) * (self.ub - self.lb)\n",
    "                        fireflies[i] = np.clip(fireflies[i], self.lb, self.ub)\n",
    "                        intensities[i] = self.func(fireflies[i])\n",
    "\n",
    "        # Return the best solution\n",
    "        best_idx = np.argmin(intensities)\n",
    "        return fireflies[best_idx], intensities[best_idx]"
   ]
  },
  {
   "cell_type": "code",
   "execution_count": 8,
   "metadata": {},
   "outputs": [],
   "source": [
    "# 1. Linear Regression with Firefly Optimization\n",
    "def linear_regression_cost(params):\n",
    "    model = LinearRegression()\n",
    "    model.coef_ = params[:-1]\n",
    "    model.intercept_ = params[-1]\n",
    "    predictions = model.predict(X)\n",
    "    return mean_squared_error(target, predictions)\n",
    "\n",
    "fa_linear = FireflyAlgorithm(func=linear_regression_cost, dim=X.shape[1] + 1, lb=-10, ub=10)\n",
    "solution_linear, score_linear = fa_linear.optimize()\n",
    "predictions_linear = np.round(LinearRegression().fit(X, target).predict(X))\n",
    "metrics_linear = calculate_metrics(target, predictions_linear, score_linear)\n",
    "metrics_df.loc[len(metrics_df)] = ['Linear Regression (Firefly)'] + list(metrics_linear)"
   ]
  },
  {
   "cell_type": "code",
   "execution_count": 9,
   "metadata": {},
   "outputs": [],
   "source": [
    "# 2. Non-Linear Regression (Polynomial) with Firefly Optimization\n",
    "def poly_regression_cost(params, degree=2):\n",
    "    poly = PolynomialFeatures(degree)\n",
    "    X_poly = poly.fit_transform(X)\n",
    "    model = LinearRegression()\n",
    "    model.coef_ = params[:-1][:X_poly.shape[1]]\n",
    "    model.intercept_ = params[-1]\n",
    "    predictions = model.predict(X_poly)\n",
    "    return mean_squared_error(target, predictions)\n",
    "\n",
    "dim_poly = PolynomialFeatures(2).fit_transform(X).shape[1] + 1\n",
    "fa_poly = FireflyAlgorithm(func=lambda params: poly_regression_cost(params, degree=2), dim=dim_poly, lb=-10, ub=10)\n",
    "solution_poly, score_poly = fa_poly.optimize()\n"
   ]
  },
  {
   "cell_type": "code",
   "execution_count": 10,
   "metadata": {},
   "outputs": [],
   "source": [
    "poly = PolynomialFeatures(degree=2)\n",
    "X_poly = poly.fit_transform(X)\n",
    "poly_model = LinearRegression().fit(X_poly, target)\n",
    "predictions_poly = np.round(poly_model.predict(X_poly))\n",
    "metrics_poly = calculate_metrics(target, predictions_poly, score_poly)\n",
    "metrics_df.loc[len(metrics_df)] = ['Non-Linear Regression (Firefly)'] + list(metrics_poly)\n",
    "\n",
    "# Logistic Regression with Firefly Optimization\n",
    "logistic_model = LogisticRegression().fit(X, target)\n",
    "target_classes = logistic_model.classes_"
   ]
  },
  {
   "cell_type": "code",
   "execution_count": 11,
   "metadata": {},
   "outputs": [],
   "source": [
    "def logistic_regression_cost(params):\n",
    "    model = LogisticRegression()\n",
    "    model.classes_ = target_classes\n",
    "    model.coef_ = params[:-1].reshape(1, -1)\n",
    "    model.intercept_ = params[-1]\n",
    "    decision_scores = model.decision_function(X)\n",
    "    predictions = np.round(expit(decision_scores))  # Stable sigmoid\n",
    "    return -accuracy_score(target, predictions)\n",
    "\n",
    "fa_logistic = FireflyAlgorithm(func=logistic_regression_cost, dim=X.shape[1] + 1, lb=-10, ub=10)\n",
    "solution_logistic, score_logistic = fa_logistic.optimize()\n",
    "\n",
    "logistic_model_optimized = LogisticRegression()\n",
    "logistic_model_optimized.coef_ = solution_logistic[:-1].reshape(1, -1)\n",
    "logistic_model_optimized.intercept_ = solution_logistic[-1]\n",
    "logistic_model_optimized.classes_ = target_classes\n",
    "\n",
    "predictions_logistic = logistic_model_optimized.predict(X)\n",
    "metrics_logistic = calculate_metrics(target, predictions_logistic, score_logistic)\n",
    "metrics_df.loc[len(metrics_df)] = ['Logistic Regression (Firefly)'] + list(metrics_logistic)"
   ]
  },
  {
   "cell_type": "code",
   "execution_count": 13,
   "metadata": {},
   "outputs": [
    {
     "name": "stdout",
     "output_type": "stream",
     "text": [
      "Metrics saved to 'model_metrics_firefly.csv'\n"
     ]
    },
    {
     "data": {
      "image/png": "[encoded data removed]",
      "text/plain": [
       "<Figure size 1000x600 with 1 Axes>"
      ]
     },
     "metadata": {},
     "output_type": "display_data"
    }
   ],
   "source": [
    "# Save the metrics to CSV file\n",
    "metrics_df.to_csv('model_metrics_firefly.csv', index=False)\n",
    "print(\"Metrics saved to 'model_metrics_firefly.csv'\")\n",
    "\n",
    "# Plotting graphs\n",
    "plt.figure(figsize=(10, 6))\n",
    "plt.bar(metrics_df['Algorithm'], metrics_df['Accuracy'], color='skyblue')\n",
    "plt.xlabel('Algorithm')\n",
    "plt.ylabel('Accuracy')\n",
    "plt.title('Accuracy Comparison of Different Models without Firefly Optimization')\n",
    "plt.show()\n",
    "\n"
   ]
  },
  {
   "cell_type": "code",
   "execution_count": null,
   "metadata": {},
   "outputs": [],
   "source": []
  }
 ],
 "metadata": {
  "kernelspec": {
   "display_name": "base",
   "language": "python",
   "name": "python3"
  },
  "language_info": {
   "codemirror_mode": {
    "name": "ipython",
    "version": 3
   },
   "file_extension": ".py",
   "mimetype": "text/x-python",
   "name": "python",
   "nbconvert_exporter": "python",
   "pygments_lexer": "ipython3",
   "version": "3.12.4"
  }
 },
 "nbformat": 4,
 "nbformat_minor": 2
}
